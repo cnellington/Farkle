{
 "cells": [
  {
   "cell_type": "code",
   "execution_count": 1,
   "id": "catholic-austria",
   "metadata": {},
   "outputs": [],
   "source": [
    "import numpy as np\n",
    "import matplotlib.pyplot as plt\n",
    "from itertools import product"
   ]
  },
  {
   "cell_type": "code",
   "execution_count": 2,
   "id": "dimensional-theme",
   "metadata": {},
   "outputs": [],
   "source": [
    "def score(dice):\n",
    "    \"\"\"\n",
    "    Returns the maximum score for a list of 1-6 dice\n",
    "    Scoring follows these rules in order (k: die val, n: num of dice showing k):\n",
    "    1. (k = 1, n > 2): 1000 + (n - 3) * 100\n",
    "    2. (k != 1, n > 2): (k * (n - 2)) * 100\n",
    "    3. (k = 1, n = 1, 2): k * 100\n",
    "    4. (k = 5, n = 1, 2): k * 50\n",
    "    \"\"\"\n",
    "    counts = [0] * 6\n",
    "    for die in dice: counts[die - 1] += 1\n",
    "    score = 0\n",
    "    if counts[0] >= 3:  # 1\n",
    "        score += 1000 + (counts[0] - 3) * 100\n",
    "        counts[0] = 0\n",
    "    for i in range(1, 6):  # 2\n",
    "        count = counts[i]\n",
    "        if count >= 3:\n",
    "            score += (i + 1) * 100 + (count - 3) * 100\n",
    "            counts[i] = 0\n",
    "    score += counts[0] * 100  # 3\n",
    "    score += counts[4] * 50  # 4\n",
    "    return score"
   ]
  },
  {
   "cell_type": "code",
   "execution_count": 5,
   "id": "artistic-emission",
   "metadata": {},
   "outputs": [
    {
     "name": "stdout",
     "output_type": "stream",
     "text": [
      "0 dice, E[Score] = 0\n",
      "1 dice, E[Score] = 25.0\n",
      "2 dice, E[Score] = 50.0\n",
      "3 dice, E[Score] = 86.81\n",
      "4 dice, E[Score] = 141.67\n",
      "5 dice, E[Score] = 217.07\n",
      "6 dice, E[Score] = 313.05\n"
     ]
    }
   ],
   "source": [
    "# Expected scores for one roll with n dice\n",
    "exp_rolls = [0] * 7\n",
    "for n in range(7):\n",
    "    dice = [list(range(1, 7)) for _ in range(n)]\n",
    "    p_roll = 6 ** -n\n",
    "    exp_roll = 0\n",
    "    for roll in product(*dice):\n",
    "        exp_roll += score(roll) * p_roll\n",
    "    print(f\"{n} dice, E[Score] = {round(exp_roll, 2)}\")\n",
    "    exp_rolls[n] = exp_roll"
   ]
  },
  {
   "cell_type": "code",
   "execution_count": 6,
   "id": "portable-market",
   "metadata": {},
   "outputs": [
    {
     "name": "stdout",
     "output_type": "stream",
     "text": [
      "0 dice, E[Turn] = 0\n",
      "1 dice, E[Turn] = 25.0\n",
      "2 dice, E[Turn] = 50.0\n",
      "3 dice, E[Turn] = 86.81\n",
      "4 dice, E[Turn] = 145.07\n",
      "5 dice, E[Turn] = 226.26\n",
      "6 dice, E[Turn] = 326.2\n"
     ]
    }
   ],
   "source": [
    "# Expected score for one turn\n",
    "# Naive Strategy: pull anything available, reroll only if the expected score after reroll is higher than the current score\n",
    "# Equivalent: pull anything available, reroll only if the expected score of the next roll is higher than the current score\n",
    "\n",
    "def score_naive(dice):\n",
    "    \"\"\"\n",
    "    Input: a roll of 1-6 dice\n",
    "    Strategy: pull anything available, return the score gained and number of remaining dice\n",
    "    \"\"\"\n",
    "    counts = [0] * 6\n",
    "    for die in dice: counts[die - 1] += 1\n",
    "    score = 0\n",
    "    if counts[0] >= 3:\n",
    "        score += 1000 + (counts[0] - 3) * 100\n",
    "        counts[0] = 0\n",
    "    for i in range(1, 6):\n",
    "        count = counts[i]\n",
    "        if count >= 3:\n",
    "            score += (i + 1) * 100 + (count - 3) * 100\n",
    "            counts[i] = 0\n",
    "    score += counts[0] * 100\n",
    "    counts[0] = 0\n",
    "    score += counts[4] * 50\n",
    "    counts[4] = 0\n",
    "    remaining_dice = sum(counts)\n",
    "    return score, remaining_dice\n",
    "\n",
    "# Dynammic programming approach: \n",
    "# exp_turn(1) = exp_scores(1)\n",
    "# exp_turn(2) = roll_score(2) + exp_turn(1 or 0)\n",
    "# exp_turn(3) = roll_score(3) + exp_turn(2, 1, or 0)\n",
    "\n",
    "exp_turns = [0] * 7\n",
    "for n in range(0, 7):\n",
    "    dice = [list(range(1, 7)) for _ in range(n)]\n",
    "    p_roll = 6 ** -n\n",
    "    exp_turn = 0\n",
    "    for roll in product(*dice):\n",
    "        # Naive strategy\n",
    "        roll_exp_score, remaining_dice = score_naive(roll)\n",
    "        reroll_exp_score = exp_turns[remaining_dice]\n",
    "        if reroll_exp_score > roll_exp_score:\n",
    "            roll_exp_score = (roll_exp_score + reroll_exp_score) / 2  # TODO: Fix this, probability of skunk is not 1/2\n",
    "        exp_turn += roll_exp_score * p_roll\n",
    "    print(f\"{n} dice, E[Turn] = {round(exp_turn, 2)}\")\n",
    "    exp_turns[n] = exp_turn"
   ]
  },
  {
   "cell_type": "code",
   "execution_count": null,
   "id": "governmental-forum",
   "metadata": {},
   "outputs": [],
   "source": []
  }
 ],
 "metadata": {
  "kernelspec": {
   "display_name": "Python [conda env:root] *",
   "language": "python",
   "name": "conda-root-py"
  },
  "language_info": {
   "codemirror_mode": {
    "name": "ipython",
    "version": 3
   },
   "file_extension": ".py",
   "mimetype": "text/x-python",
   "name": "python",
   "nbconvert_exporter": "python",
   "pygments_lexer": "ipython3",
   "version": "3.7.9"
  }
 },
 "nbformat": 4,
 "nbformat_minor": 5
}
